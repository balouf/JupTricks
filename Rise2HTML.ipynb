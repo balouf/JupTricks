{
 "cells": [
  {
   "cell_type": "markdown",
   "metadata": {
    "toc": "true"
   },
   "source": [
    "# Table of Contents\n",
    " <p><div class=\"lev1 toc-item\"><a href=\"#Parameters\" data-toc-modified-id=\"Parameters-1\"><span class=\"toc-item-num\">1&nbsp;&nbsp;</span>Parameters</a></div><div class=\"lev1 toc-item\"><a href=\"#Creating-template\" data-toc-modified-id=\"Creating-template-2\"><span class=\"toc-item-num\">2&nbsp;&nbsp;</span>Creating template</a></div><div class=\"lev2 toc-item\"><a href=\"#Hide-Inputs\" data-toc-modified-id=\"Hide-Inputs-2.1\"><span class=\"toc-item-num\">2.1&nbsp;&nbsp;</span>Hide Inputs</a></div><div class=\"lev2 toc-item\"><a href=\"#Theme\" data-toc-modified-id=\"Theme-2.2\"><span class=\"toc-item-num\">2.2&nbsp;&nbsp;</span>Theme</a></div><div class=\"lev2 toc-item\"><a href=\"#Logo\" data-toc-modified-id=\"Logo-2.3\"><span class=\"toc-item-num\">2.3&nbsp;&nbsp;</span>Logo</a></div><div class=\"lev2 toc-item\"><a href=\"#Concatenate-Template\" data-toc-modified-id=\"Concatenate-Template-2.4\"><span class=\"toc-item-num\">2.4&nbsp;&nbsp;</span>Concatenate Template</a></div><div class=\"lev2 toc-item\"><a href=\"#Write-File\" data-toc-modified-id=\"Write-File-2.5\"><span class=\"toc-item-num\">2.5&nbsp;&nbsp;</span>Write File</a></div><div class=\"lev1 toc-item\"><a href=\"#Run-nbconvert\" data-toc-modified-id=\"Run-nbconvert-3\"><span class=\"toc-item-num\">3&nbsp;&nbsp;</span>Run nbconvert</a></div>"
   ]
  },
  {
   "cell_type": "markdown",
   "metadata": {},
   "source": [
    "This NoteBook aims at explaining the process for converting a Rise-ipynb into HTML. It can also be used to make the conversion by setting up the *parameters* cell, then running all cells."
   ]
  },
  {
   "cell_type": "markdown",
   "metadata": {},
   "source": [
    "# Parameters"
   ]
  },
  {
   "cell_type": "markdown",
   "metadata": {},
   "source": [
    "Evaluate the cell below to define your parameters."
   ]
  },
  {
   "cell_type": "code",
   "execution_count": 15,
   "metadata": {
    "ExecuteTime": {
     "end_time": "2016-10-20T20:01:33.415916",
     "start_time": "2016-10-20T20:01:33.388888"
    },
    "collapsed": false
   },
   "outputs": [],
   "source": [
    "# Location of the notebook\n",
    "nbprefix = \"NoteBookPresentation\"\n",
    "# Relies on a local copy of reveal.js (otherwise use a CDN)\n",
    "localreveal = False\n",
    "# What to do with the inputs hidden by the nbextension hide inputs (keep/remove/toggle)\n",
    "hidden_inputs = \"toggle\"\n",
    "# Set up a logo (lincs/nokia/none)\n",
    "logo = \"lincs\"\n",
    "# Set up theme\n",
    "theme = \"sky\"\n",
    "# Embed images in base64; currently require inlinehtmlimages-v1.7.exe\n",
    "embed = True\n",
    "# Other options, see https://github.com/hakimel/reveal.js#configuration\n",
    "revealoptions = \"\"\"\n",
    "    controls: true,\n",
    "    progress: true,\n",
    "    history: false,\n",
    "    width: \"100%\",\n",
    "    height: \"100%\",\n",
    "    margin: 0.1,\n",
    "    minScale: .1,\n",
    "    maxScale: 10,\n",
    "\n",
    "    theme: Reveal.getQueryHash().theme, // available themes are in /css/theme\n",
    "    transition: 'page', //Reveal.getQueryHash().transition || 'linear', // default/cube/page/concave/zoom/linear/none\n",
    "\"\"\""
   ]
  },
  {
   "cell_type": "markdown",
   "metadata": {},
   "source": [
    "# Creating template"
   ]
  },
  {
   "cell_type": "markdown",
   "metadata": {},
   "source": [
    "We create a template **myplate.tpl** in current directory that adapts the reveal template from **\\Lib\\site-packages\\nbconvert\\templates\\html\\slides_reveal.tpl** so it embeds all the things we need."
   ]
  },
  {
   "cell_type": "markdown",
   "metadata": {},
   "source": [
    "## Hide Inputs\n",
    "\n",
    "- If hidden_inputs is set to \"remove\", all hidden inputs will be removed.\n",
    "- If set to \"toggle\", all inputs are preserved and can be hidden/revealed by clicking the corresponding output. Hidden inputs will be initially... hidden!"
   ]
  },
  {
   "cell_type": "code",
   "execution_count": 16,
   "metadata": {
    "ExecuteTime": {
     "end_time": "2016-10-20T20:01:33.727329",
     "start_time": "2016-10-20T20:01:33.421917"
    },
    "collapsed": true
   },
   "outputs": [],
   "source": [
    "hidden_str = \"\"\n",
    "hidden_script = \"\"\n",
    "if hidden_inputs == \"toggle\":\n",
    "    hidden_str = \"\"\"\n",
    "{%- block input_group -%}\n",
    "{%- if cell.metadata.hide_input -%}\n",
    "<div class=\"hideable_input\" style=\"display:none\">\n",
    "{{ super() }}\n",
    "</div>\n",
    "{%- else -%}\n",
    "<div class=\"hideable_input\">\n",
    "{{ super() }}\n",
    "</div>\n",
    "{%- endif -%}\n",
    "{%- endblock input_group -%}\n",
    "\"\"\"\n",
    "    hidden_script = \"\"\"\n",
    "<script>\n",
    "$(document).ready(function(){\n",
    "  $(\".output_wrapper\").click(function(){\n",
    "      $(this).prev('.hideable_input').slideToggle();\n",
    "  });\n",
    "})\n",
    "</script>\n",
    "\"\"\"\n",
    "elif hidden_inputs == \"remove\":\n",
    "    hidden_str = \"\"\"\n",
    "{%- block input_group -%}\n",
    "{%- if cell.metadata.hide_input -%}\n",
    "{%- else -%}\n",
    "{{ super() }}\n",
    "{%- endif -%}\n",
    "{%- endblock input_group -%}\n",
    "\"\"\"\n"
   ]
  },
  {
   "cell_type": "markdown",
   "metadata": {},
   "source": [
    "## Theme"
   ]
  },
  {
   "cell_type": "code",
   "execution_count": 17,
   "metadata": {
    "ExecuteTime": {
     "end_time": "2016-10-20T20:01:33.894484",
     "start_time": "2016-10-20T20:01:33.734288"
    },
    "collapsed": true
   },
   "outputs": [],
   "source": [
    "theme_str = \"\"\"<link rel=\"stylesheet\" href=\"{{resources.reveal.url_prefix}}/css/theme/\"\"\"+theme+\"\"\".css\" id=\"theme\">\"\"\""
   ]
  },
  {
   "cell_type": "markdown",
   "metadata": {},
   "source": [
    "## Logo"
   ]
  },
  {
   "cell_type": "code",
   "execution_count": 18,
   "metadata": {
    "ExecuteTime": {
     "end_time": "2016-10-20T20:01:34.048750",
     "start_time": "2016-10-20T20:01:33.898488"
    },
    "collapsed": true
   },
   "outputs": [],
   "source": [
    "logo_str = \"\"\"<style>\n",
    ".output_png {\n",
    "    display: table-cell;\n",
    "    text-align: center;\n",
    "    vertical-align: middle;\n",
    "}\n",
    "\"\"\"\n",
    "if logo == \"lincs\":\n",
    "    logo_str += \"\"\"\n",
    "body:after {\n",
    "background-image: url('lincs.png');\n",
    "background-size: 200px 100px;\n",
    "position: fixed;\n",
    "bottom: 1em;\n",
    "right: 8em;\n",
    "width: 200px; \n",
    "height: 100px;\n",
    "content:\"\";\n",
    "}\n",
    "\"\"\"\n",
    "elif logo == \"nokia\":\n",
    "    logo_str = \"\"\"\n",
    "body:after {\n",
    "background-image: url('nokia.png');\n",
    "background-size: 200px 60px;\n",
    "position: fixed;\n",
    "bottom: 2.8em;\n",
    "right: 8em;\n",
    "width: 200px; \n",
    "height: 60px;\n",
    "content:\"\";\n",
    "}\n",
    "\"\"\"\n",
    "\n",
    "logo_str += \"\"\"</style>\"\"\" "
   ]
  },
  {
   "cell_type": "markdown",
   "metadata": {
    "hide_input": true
   },
   "source": [
    "## Concatenate Template"
   ]
  },
  {
   "cell_type": "code",
   "execution_count": 19,
   "metadata": {
    "ExecuteTime": {
     "end_time": "2016-10-20T20:01:34.184961",
     "start_time": "2016-10-20T20:01:34.052754"
    },
    "collapsed": true,
    "hide_input": false
   },
   "outputs": [],
   "source": [
    "template = \"\"\"\n",
    "{%- extends 'basic.tpl' -%}\n",
    "{% from 'mathjax.tpl' import mathjax %}\n",
    "\n",
    "{%- block any_cell scoped -%}\n",
    "{%- if cell.metadata.get('slide_start', False) -%}\n",
    "<section>\n",
    "{%- endif -%}\n",
    "{%- if cell.metadata.get('subslide_start', False) -%}\n",
    "<section>\n",
    "{%- endif -%}\n",
    "{%- if cell.metadata.get('fragment_start', False) -%}\n",
    "<div class=\"fragment\">\n",
    "{%- endif -%}\n",
    "\n",
    "{%- if cell.metadata.slide_type == 'notes' -%}\n",
    "<aside class=\"notes\">\n",
    "{{ super() }}\n",
    "</aside>\n",
    "{%- elif cell.metadata.slide_type == 'skip' -%}\n",
    "{%- else -%}\n",
    "{{ super() }}\n",
    "{%- endif -%}\n",
    "\n",
    "{%- if cell.metadata.get('fragment_end', False) -%}\n",
    "</div>\n",
    "{%- endif -%}\n",
    "{%- if cell.metadata.get('subslide_end', False) -%}\n",
    "</section>\n",
    "{%- endif -%}\n",
    "{%- if cell.metadata.get('slide_end', False) -%}\n",
    "</section>\n",
    "{%- endif -%}\n",
    "\n",
    "{%- endblock any_cell -%}\n",
    "\"\"\"\n",
    "template += hidden_str\n",
    "template += \"\"\"\n",
    "{% block header %}\n",
    "<!DOCTYPE html>\n",
    "<html>\n",
    "<head>\n",
    "\n",
    "<meta charset=\"utf-8\" />\n",
    "<meta http-equiv=\"X-UA-Compatible\" content=\"chrome=1\" />\n",
    "\n",
    "<meta name=\"apple-mobile-web-app-capable\" content=\"yes\" />\n",
    "<meta name=\"apple-mobile-web-app-status-bar-style\" content=\"black-translucent\" />\n",
    "\n",
    "<title>{{resources['metadata']['name']}} slides</title>\n",
    "\n",
    "<script src=\"https://cdnjs.cloudflare.com/ajax/libs/require.js/2.1.10/require.min.js\"></script>\n",
    "<script src=\"https://cdnjs.cloudflare.com/ajax/libs/jquery/2.0.3/jquery.min.js\"></script>\n",
    "\n",
    "<!-- General and theme style sheets -->\n",
    "<link rel=\"stylesheet\" href=\"{{resources.reveal.url_prefix}}/css/reveal.css\">\n",
    "\"\"\"\n",
    "template += theme_str\n",
    "template += \"\"\"\n",
    "<!-- If the query includes 'print-pdf', include the PDF print sheet -->\n",
    "<script>\n",
    "if( window.location.search.match( /print-pdf/gi ) ) {\n",
    "        var link = document.createElement( 'link' );\n",
    "        link.rel = 'stylesheet';\n",
    "        link.type = 'text/css';\n",
    "        link.href = '{{resources.reveal.url_prefix}}/css/print/pdf.css';\n",
    "        document.getElementsByTagName( 'head' )[0].appendChild( link );\n",
    "}\n",
    "\n",
    "</script>\n",
    "\n",
    "<!--[if lt IE 9]>\n",
    "<script src=\"{{resources.reveal.url_prefix}}/lib/js/html5shiv.js\"></script>\n",
    "<![endif]-->\n",
    "\n",
    "<!-- Loading the mathjax macro -->\n",
    "{{ mathjax() }}\n",
    "\n",
    "<!-- Get Font-awesome from cdn -->\n",
    "<link rel=\"stylesheet\" href=\"//netdna.bootstrapcdn.com/font-awesome/4.1.0/css/font-awesome.css\">\n",
    "\n",
    "{% for css in resources.inlining.css -%}\n",
    "    <style type=\"text/css\">\n",
    "    {{ css }}\n",
    "    </style>\n",
    "{% endfor %}\n",
    "\"\"\"\n",
    "template += logo_str\n",
    "template += \"\"\"\n",
    "<style type=\"text/css\">\n",
    "/* Overrides of notebook CSS for static HTML export */\n",
    ".reveal {\n",
    "  font-size: 160%;\n",
    "  overflow-y: hidden;\n",
    "}\n",
    ".reveal pre {\n",
    "  width: inherit;\n",
    "  padding: 0.4em;\n",
    "  margin: 0px;\n",
    "  font-family: monospace, sans-serif;\n",
    "  font-size: 80%;\n",
    "  box-shadow: 0px 0px 0px rgba(0, 0, 0, 0);\n",
    "}\n",
    ".reveal pre code {\n",
    "  padding: 0px;\n",
    "}\n",
    ".reveal section img {\n",
    "  border: 0px solid black;\n",
    "  box-shadow: 0 0 10px rgba(0, 0, 0, 0);\n",
    "}\n",
    ".reveal i {\n",
    "  font-style: normal;\n",
    "  font-family: FontAwesome;\n",
    "  font-size: 2em;\n",
    "}\n",
    ".reveal .slides {\n",
    "  text-align: left;\n",
    "}\n",
    ".reveal.fade {\n",
    "  opacity: 1;\n",
    "}\n",
    ".reveal .progress {\n",
    "  position: static;\n",
    "}\n",
    "div.input_area {\n",
    "  padding: 0.06em;\n",
    "}\n",
    "div.code_cell {\n",
    "  background-color: transparent;\n",
    "}\n",
    "div.prompt {\n",
    "  width: 11ex;\n",
    "  padding: 0.4em;\n",
    "  margin: 0px;\n",
    "  font-family: monospace, sans-serif;\n",
    "  font-size: 80%;\n",
    "  text-align: right;\n",
    "}\n",
    "div.output_area pre {\n",
    "  font-family: monospace, sans-serif;\n",
    "  font-size: 80%;\n",
    "}\n",
    "div.output_prompt {\n",
    "  /* 5px right shift to account for margin in parent container */\n",
    "  margin: 5px 5px 0 0;\n",
    "}\n",
    "div.text_cell.rendered .rendered_html {\n",
    "  /* The H1 height seems miscalculated, we are just hidding the scrollbar */\n",
    "  overflow-y: hidden;\n",
    "}\n",
    "a.anchor-link {\n",
    "  /* There is still an anchor, we are only hidding it */\n",
    "  display: none;\n",
    "}\n",
    ".rendered_html p {\n",
    "  text-align: inherit;\n",
    "}\n",
    "</style>\n",
    "\"\"\"\n",
    "template += hidden_script\n",
    "template += \"\"\"\n",
    "</head>\n",
    "{% endblock header%}\n",
    "\n",
    "\n",
    "{% block body %}\n",
    "{% block pre_slides %}\n",
    "<body>\n",
    "{% endblock pre_slides %}\n",
    "\n",
    "<div class=\"reveal\">\n",
    "<div class=\"slides\">\n",
    "{{ super() }}\n",
    "</div>\n",
    "</div>\n",
    "{% block post_slides %}\n",
    "<script>\n",
    "\n",
    "require(\n",
    "    {\n",
    "      // it makes sense to wait a little bit when you are loading\n",
    "      // reveal from a cdn in a slow connection environment\n",
    "      waitSeconds: 15\n",
    "    },\n",
    "    [\n",
    "      \"{{resources.reveal.url_prefix}}/lib/js/head.min.js\",\n",
    "      \"{{resources.reveal.url_prefix}}/js/reveal.js\"\n",
    "    ],\n",
    "\n",
    "    function(head, Reveal){\n",
    "\n",
    "        // Full list of configuration options available here: https://github.com/hakimel/reveal.js#configuration\n",
    "        Reveal.initialize({\n",
    "\"\"\"\n",
    "template += revealoptions\n",
    "template += \"\"\"\n",
    "\n",
    "            // Optional libraries used to extend on reveal.js\n",
    "            dependencies: [\n",
    "                { src: \"{{resources.reveal.url_prefix}}/lib/js/classList.js\",\n",
    "                  condition: function() { return !document.body.classList; } },\n",
    "                { src: \"{{resources.reveal.url_prefix}}/plugin/notes/notes.js\",\n",
    "                  async: true,\n",
    "                  condition: function() { return !!document.body.classList; } }\n",
    "            ]\n",
    "        });\n",
    "\n",
    "        var update = function(event){\n",
    "          if(MathJax.Hub.getAllJax(Reveal.getCurrentSlide())){\n",
    "            MathJax.Hub.Rerender(Reveal.getCurrentSlide());\n",
    "          }\n",
    "        };\n",
    "\n",
    "        Reveal.addEventListener('slidechanged', update);\n",
    "\n",
    "        var update_scroll = function(event){\n",
    "          $(\".reveal\").scrollTop(0);\n",
    "        };\n",
    "\n",
    "        Reveal.addEventListener('slidechanged', update_scroll);\n",
    "\n",
    "    }\n",
    ");\n",
    "</script>\n",
    "\n",
    "</body>\n",
    "{% endblock post_slides %}\n",
    "{% endblock body %}\n",
    "\n",
    "{% block footer %}\n",
    "</html>\n",
    "{% endblock footer %}\n",
    "\"\"\""
   ]
  },
  {
   "cell_type": "markdown",
   "metadata": {},
   "source": [
    "## Write File\n",
    "\n",
    "We write a template having the same name than the file we want to convert."
   ]
  },
  {
   "cell_type": "code",
   "execution_count": 20,
   "metadata": {
    "ExecuteTime": {
     "end_time": "2016-10-20T20:01:34.288743",
     "start_time": "2016-10-20T20:01:34.189966"
    },
    "collapsed": false,
    "hide_input": false
   },
   "outputs": [],
   "source": [
    "with open(nbprefix+\".tpl\", \"w\") as f:\n",
    "    f.write(template)"
   ]
  },
  {
   "cell_type": "markdown",
   "metadata": {},
   "source": [
    "# Run nbconvert\n",
    "\n",
    "To embed the images, the current workflow uses a Windows exe. In a further version, the embedding should be made in Python so it will be platform independent."
   ]
  },
  {
   "cell_type": "code",
   "execution_count": 21,
   "metadata": {
    "ExecuteTime": {
     "end_time": "2016-10-20T20:01:39.002587",
     "start_time": "2016-10-20T20:01:34.292744"
    },
    "collapsed": false,
    "hide_input": false
   },
   "outputs": [],
   "source": [
    "import subprocess as sub\n",
    "\n",
    "if localreveal:\n",
    "    reveal = \"reveal.js\"\n",
    "else:\n",
    "    reveal = \"https://cdn.bootcss.com/reveal.js/3.3.0\"\n",
    "\n",
    "import os\n",
    "sub.run(\"jupyter nbconvert --to slides \"+nbprefix+\".ipynb --template \"+nbprefix+\" --reveal-prefix \"+reveal)\n",
    "if embed:\n",
    "    try:\n",
    "        os.remove(nbprefix+\".standalone.html\")\n",
    "    except:\n",
    "        print(\"No Prezi\")\n",
    "    sub.run(\"inlinehtmlimages-v1.7.exe -in \"+nbprefix+\".slides.html -out \"+nbprefix+\".standalone.html\")"
   ]
  }
 ],
 "metadata": {
  "anaconda-cloud": {},
  "kernelspec": {
   "display_name": "Python [default]",
   "language": "python",
   "name": "python3"
  },
  "language_info": {
   "codemirror_mode": {
    "name": "ipython",
    "version": 3
   },
   "file_extension": ".py",
   "mimetype": "text/x-python",
   "name": "python",
   "nbconvert_exporter": "python",
   "pygments_lexer": "ipython3",
   "version": "3.5.2"
  },
  "nav_menu": {},
  "toc": {
   "navigate_menu": true,
   "number_sections": false,
   "sideBar": true,
   "threshold": 6,
   "toc_cell": true,
   "toc_section_display": "block",
   "toc_window_display": true
  }
 },
 "nbformat": 4,
 "nbformat_minor": 1
}
