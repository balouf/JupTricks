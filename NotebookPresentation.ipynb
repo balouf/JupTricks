{
 "cells": [
  {
   "cell_type": "code",
   "execution_count": 1,
   "metadata": {
    "ExecuteTime": {
     "end_time": "2016-10-20T19:23:11.551273",
     "start_time": "2016-10-20T19:23:11.524251"
    },
    "collapsed": false,
    "hide_input": true,
    "slideshow": {
     "slide_type": "skip"
    }
   },
   "outputs": [
    {
     "data": {
      "text/html": [
       "<style>\n",
       ".output_png {\n",
       "    display: table-cell;\n",
       "    text-align: center;\n",
       "    vertical-align: middle;\n",
       "}\n",
       "\n",
       "body:after {\n",
       "background-image: url('lincs.png');\n",
       "background-size: 200px 100px;\n",
       "position: fixed;\n",
       "bottom: 1em;\n",
       "right: 8em;\n",
       "width: 200px; \n",
       "height: 100px;\n",
       "content:\"\";\n",
       "}\n",
       "</style> "
      ],
      "text/plain": [
       "<IPython.core.display.HTML object>"
      ]
     },
     "metadata": {},
     "output_type": "display_data"
    }
   ],
   "source": [
    "%%HTML\n",
    "<style>\n",
    ".output_png {\n",
    "    display: table-cell;\n",
    "    text-align: center;\n",
    "    vertical-align: middle;\n",
    "}\n",
    "\n",
    "body:after {\n",
    "background-image: url('lincs.png');\n",
    "background-size: 200px 100px;\n",
    "position: fixed;\n",
    "bottom: 1em;\n",
    "right: 8em;\n",
    "width: 200px; \n",
    "height: 100px;\n",
    "content:\"\";\n",
    "}\n",
    "</style> "
   ]
  },
  {
   "cell_type": "markdown",
   "metadata": {
    "nbpresent": {
     "id": "63f07013-94ad-4bcc-b758-f6d01552dad1"
    },
    "slideshow": {
     "slide_type": "slide"
    }
   },
   "source": [
    "# \tHands-on series: Jupyter Notebook\n",
    "\n",
    "## Fabien Mathieu"
   ]
  },
  {
   "cell_type": "markdown",
   "metadata": {
    "slideshow": {
     "slide_type": "notes"
    }
   },
   "source": [
    "- Don't forget to close and return to RISE version\n",
    "- talk is ending, remind to speak of Web Site"
   ]
  },
  {
   "cell_type": "markdown",
   "metadata": {
    "slideshow": {
     "slide_type": "subslide"
    }
   },
   "source": [
    "# They speak of Jupyter"
   ]
  },
  {
   "cell_type": "markdown",
   "metadata": {
    "slideshow": {
     "slide_type": "-"
    }
   },
   "source": [
    "- *There's this new thing called NoteBooks, I think it's the future!*, Laurent Viennot\n",
    "- *NoteBooks are awesome!*, Rémy Leone\n",
    "- *I have a dream that one application will rise up*, Marc-Olivier Buob\n",
    "- *You moron should try NoteBooks*, Thomas Bonald"
   ]
  },
  {
   "cell_type": "markdown",
   "metadata": {
    "slideshow": {
     "slide_type": "subslide"
    }
   },
   "source": [
    "\n",
    "# It's a bird? It's a plane?\n",
    "## What is a Jupyter Notebook?\n"
   ]
  },
  {
   "cell_type": "markdown",
   "metadata": {
    "slideshow": {
     "slide_type": "subslide"
    }
   },
   "source": [
    "# Jupyter NoteBook\n",
    "\n",
    "- A json file that stores *cells*\n",
    "- A web server to interpret\n",
    "- A kernel to execute\n",
    "- Javascript to display in your favorite browser"
   ]
  },
  {
   "cell_type": "markdown",
   "metadata": {
    "slideshow": {
     "slide_type": "subslide"
    }
   },
   "source": [
    "# Installation\n",
    "\n",
    "- Install ~~Anaconda~~ your favorite Python distribution\n",
    "- Type **jupyter notebook** in a terminal\n",
    "- Have fun\n",
    "\n",
    "Optional (recommanded): ~~Miktex~~LaTeX, nbextensions, Rise, ImageMagick, ~~IJulia~~ your favorite language"
   ]
  },
  {
   "cell_type": "markdown",
   "metadata": {
    "slideshow": {
     "slide_type": "slide"
    }
   },
   "source": [
    "# Cells\n",
    "\n",
    "A NoteBook is made of cells. Three types of cell exist:\n",
    "- *code cells* for programming\n",
    "- *markdown cells* for text/maths\n",
    "- *raw cells* for dirty tricks"
   ]
  },
  {
   "cell_type": "markdown",
   "metadata": {
    "slideshow": {
     "slide_type": "subslide"
    }
   },
   "source": [
    "# Code cells"
   ]
  },
  {
   "cell_type": "code",
   "execution_count": 2,
   "metadata": {
    "ExecuteTime": {
     "end_time": "2016-10-20T19:23:11.656380",
     "start_time": "2016-10-20T19:23:11.555275"
    },
    "collapsed": false,
    "slideshow": {
     "slide_type": "-"
    }
   },
   "outputs": [
    {
     "name": "stdout",
     "output_type": "stream",
     "text": [
      "The answer is 42\n"
     ]
    }
   ],
   "source": [
    "x = 6*7\n",
    "print(\"The answer is \"+str(x))"
   ]
  },
  {
   "cell_type": "markdown",
   "metadata": {
    "slideshow": {
     "slide_type": "-"
    }
   },
   "source": [
    "All cells share the same kernel"
   ]
  },
  {
   "cell_type": "code",
   "execution_count": 3,
   "metadata": {
    "ExecuteTime": {
     "end_time": "2016-10-20T19:23:11.765493",
     "start_time": "2016-10-20T19:23:11.660384"
    },
    "collapsed": false,
    "slideshow": {
     "slide_type": "-"
    }
   },
   "outputs": [
    {
     "name": "stdout",
     "output_type": "stream",
     "text": [
      "The answer is still 42\n"
     ]
    }
   ],
   "source": [
    "print(\"The answer is still \"+str(x))"
   ]
  },
  {
   "cell_type": "markdown",
   "metadata": {
    "slideshow": {
     "slide_type": "subslide"
    }
   },
   "source": [
    "# Markdown cells: Heading"
   ]
  },
  {
   "cell_type": "markdown",
   "metadata": {
    "slideshow": {
     "slide_type": "-"
    }
   },
   "source": [
    "## This is a subtitle!\n",
    "\n",
    "### Sub-subtitle\n",
    "\n",
    "#### And\n",
    "\n",
    "##### So\n",
    "\n",
    "###### On"
   ]
  },
  {
   "cell_type": "markdown",
   "metadata": {
    "slideshow": {
     "slide_type": "subslide"
    }
   },
   "source": [
    "# Markdown cells: Format"
   ]
  },
  {
   "cell_type": "markdown",
   "metadata": {
    "slideshow": {
     "slide_type": "-"
    }
   },
   "source": [
    "- Items are simple to write\n",
    "    1. *Italic*, **bold**,\n",
    "    2. **something _mixed_**\n",
    "    3. ~~strike~~\n",
    "    \n",
    "> A quote"
   ]
  },
  {
   "cell_type": "markdown",
   "metadata": {
    "slideshow": {
     "slide_type": "subslide"
    }
   },
   "source": [
    "# Markdown cells: Maths"
   ]
  },
  {
   "cell_type": "markdown",
   "metadata": {
    "ExecuteTime": {
     "end_time": "2016-10-18T14:32:14.514937",
     "start_time": "2016-10-18T14:32:14.496922"
    },
    "collapsed": false,
    "slideshow": {
     "slide_type": "-"
    }
   },
   "source": [
    "You can use $\\LaTeX$ if you want:\n",
    "$$\\sum_{n=1}^\\infty \\frac{n^{-2}}{\\left(\\frac{13^2+\\sqrt{10^3+3^2}+\\sqrt{6^2+2\\times5^2+2\\times13^2\\sqrt{10^3+3^2}}}{2^{2}42}\\right)} \\neq 42$$"
   ]
  },
  {
   "cell_type": "markdown",
   "metadata": {
    "slideshow": {
     "slide_type": "subslide"
    }
   },
   "source": [
    "# Markdown cells: HTML Markups"
   ]
  },
  {
   "cell_type": "markdown",
   "metadata": {
    "ExecuteTime": {
     "end_time": "2016-10-18T14:32:14.514937",
     "start_time": "2016-10-18T14:32:14.496922"
    },
    "collapsed": false,
    "slideshow": {
     "slide_type": "-"
    }
   },
   "source": [
    "<img style=\"float: right; width:30vw; margin: 30px\" src=\"platypus.png\">\n",
    "\n",
    "An example with an image on the right of the picture with a markdown cell."
   ]
  },
  {
   "cell_type": "markdown",
   "metadata": {
    "slideshow": {
     "slide_type": "slide"
    }
   },
   "source": [
    "# It's A Kind Of Magic\n",
    "\n",
    "- *magic commands* change the way a code cell is evaluated\n",
    "    - single % affects one line\n",
    "    - double %% affect the whole cell"
   ]
  },
  {
   "cell_type": "markdown",
   "metadata": {
    "slideshow": {
     "slide_type": "subslide"
    }
   },
   "source": [
    "# Pylab Magic"
   ]
  },
  {
   "cell_type": "markdown",
   "metadata": {},
   "source": [
    "**%pylab inline** integrate numpy and matplotlib in your notebook."
   ]
  },
  {
   "cell_type": "code",
   "execution_count": 4,
   "metadata": {
    "ExecuteTime": {
     "end_time": "2016-10-20T19:23:18.706677",
     "start_time": "2016-10-20T19:23:11.770495"
    },
    "collapsed": false
   },
   "outputs": [
    {
     "name": "stdout",
     "output_type": "stream",
     "text": [
      "Populating the interactive namespace from numpy and matplotlib\n"
     ]
    }
   ],
   "source": [
    "%pylab inline"
   ]
  },
  {
   "cell_type": "markdown",
   "metadata": {},
   "source": [
    "Then, plot as you like!"
   ]
  },
  {
   "cell_type": "markdown",
   "metadata": {
    "slideshow": {
     "slide_type": "subslide"
    }
   },
   "source": [
    "# Pylab Magic"
   ]
  },
  {
   "cell_type": "code",
   "execution_count": 5,
   "metadata": {
    "ExecuteTime": {
     "end_time": "2016-10-20T19:23:26.588789",
     "start_time": "2016-10-20T19:23:18.714636"
    },
    "collapsed": false,
    "hide_input": false
   },
   "outputs": [
    {
     "data": {
      "image/png": "[encoded data removed]",
      "text/plain": [
       "<matplotlib.figure.Figure at 0x25251547fd0>"
      ]
     },
     "metadata": {},
     "output_type": "display_data"
    }
   ],
   "source": [
    "from scipy.special import zeta\n",
    "x = range(1,20); figure(figsize = (5,3)); plot(x,6/zeta(3,1)*cumsum([7*k**(-3) for k in x]), 'ro', \n",
    "label = '$\\\\frac{6}{\\\\zeta(3)}\\\\sum_{i = 1}^n \\\\frac{7}{i^3}$')\n",
    "xlabel('$n$'); ylabel('$f(n)$'); legend(loc = 4, numpoints = 1); show()"
   ]
  },
  {
   "cell_type": "markdown",
   "metadata": {
    "slideshow": {
     "slide_type": "subslide"
    }
   },
   "source": [
    "# Julia Magic"
   ]
  },
  {
   "cell_type": "code",
   "execution_count": 6,
   "metadata": {
    "ExecuteTime": {
     "end_time": "2016-10-20T19:23:35.345396",
     "start_time": "2016-10-20T19:23:26.593296"
    },
    "collapsed": false,
    "slideshow": {
     "slide_type": "-"
    }
   },
   "outputs": [
    {
     "name": "stdout",
     "output_type": "stream",
     "text": [
      "Julia says the result is 42 !\n"
     ]
    }
   ],
   "source": [
    "%%julia\n",
    "begin\n",
    "    result = 0\n",
    "    for i = 3:9\n",
    "        result += i\n",
    "    end\n",
    "    println(\"Julia says the result is $result !\")\n",
    "end"
   ]
  },
  {
   "cell_type": "markdown",
   "metadata": {
    "slideshow": {
     "slide_type": "subslide"
    }
   },
   "source": [
    "# HTML Magic"
   ]
  },
  {
   "cell_type": "markdown",
   "metadata": {
    "slideshow": {
     "slide_type": "-"
    }
   },
   "source": [
    "Sometimes, you need something that markup will not accept."
   ]
  },
  {
   "cell_type": "code",
   "execution_count": 7,
   "metadata": {
    "ExecuteTime": {
     "end_time": "2016-10-20T19:23:35.360916",
     "start_time": "2016-10-20T19:23:35.349901"
    },
    "collapsed": false,
    "hide_input": true,
    "slideshow": {
     "slide_type": "fragment"
    }
   },
   "outputs": [
    {
     "data": {
      "text/html": [
       "<iframe width=\"560\" height=\"315\" src=\"https://www.youtube.com/embed/aboZctrHfK8\" frameborder=\"0\" allowfullscreen></iframe>"
      ],
      "text/plain": [
       "<IPython.core.display.HTML object>"
      ]
     },
     "metadata": {},
     "output_type": "display_data"
    }
   ],
   "source": [
    "%%HTML\n",
    "<iframe width=\"560\" height=\"315\" src=\"https://www.youtube.com/embed/aboZctrHfK8\" frameborder=\"0\" allowfullscreen></iframe>"
   ]
  },
  {
   "cell_type": "markdown",
   "metadata": {
    "slideshow": {
     "slide_type": "subslide"
    }
   },
   "source": [
    "# Tikz Magic"
   ]
  },
  {
   "cell_type": "code",
   "execution_count": 8,
   "metadata": {
    "ExecuteTime": {
     "end_time": "2016-10-20T19:23:35.797343",
     "start_time": "2016-10-20T19:23:35.366921"
    },
    "collapsed": true,
    "slideshow": {
     "slide_type": "-"
    }
   },
   "outputs": [],
   "source": [
    "%load_ext tikzmagic"
   ]
  },
  {
   "cell_type": "code",
   "execution_count": 9,
   "metadata": {
    "ExecuteTime": {
     "end_time": "2016-10-20T19:23:50.875839",
     "start_time": "2016-10-20T19:23:35.800349"
    },
    "collapsed": false,
    "slideshow": {
     "slide_type": "-"
    }
   },
   "outputs": [
    {
     "data": {
      "image/png": "[encoded data removed]"
     },
     "metadata": {},
     "output_type": "display_data"
    }
   ],
   "source": [
    "%%tikz --size 200,200\n",
    "\\node (a) {All}; \\node[above right of = a] (r) {roads};\n",
    "\\node[below of = r] (l) {lead}; \\node[right of = l] (t) {to};\n",
    "\\node[above of = t] (42) {42};\n",
    "\\draw[->,>=stealth, thick] (a) -- (r) -- (l) -- (t) -- (42);"
   ]
  },
  {
   "cell_type": "markdown",
   "metadata": {
    "slideshow": {
     "slide_type": "slide"
    }
   },
   "source": [
    "# NBExtensions\n",
    "## A set of time saving / fancy plugins"
   ]
  },
  {
   "cell_type": "markdown",
   "metadata": {
    "slideshow": {
     "slide_type": "subslide"
    }
   },
   "source": [
    "# Hide Code"
   ]
  },
  {
   "cell_type": "code",
   "execution_count": 10,
   "metadata": {
    "ExecuteTime": {
     "end_time": "2016-10-20T19:23:51.309314",
     "start_time": "2016-10-20T19:23:50.879803"
    },
    "collapsed": false,
    "hide_input": true,
    "slideshow": {
     "slide_type": "-"
    }
   },
   "outputs": [
    {
     "data": {
      "image/png": "[encoded data removed]",
      "text/plain": [
       "<matplotlib.figure.Figure at 0x25253405f60>"
      ]
     },
     "metadata": {},
     "output_type": "display_data"
    }
   ],
   "source": [
    "from scipy.special import zeta\n",
    "x = range(1,20); figure(); plot(x,6/zeta(3,1)*cumsum([7*k**(-3) for k in x]), 'ro', \n",
    "label = '$\\\\frac{6}{\\\\zeta(3)}\\\\sum_{i = 1}^n \\\\frac{7}{i^3}$')\n",
    "xlabel('$n$'); ylabel('$f(n)$'); legend(loc = 4, numpoints = 1); show()"
   ]
  },
  {
   "cell_type": "markdown",
   "metadata": {
    "slideshow": {
     "slide_type": "subslide"
    }
   },
   "source": [
    " # Execute time"
   ]
  },
  {
   "cell_type": "code",
   "execution_count": 11,
   "metadata": {
    "ExecuteTime": {
     "end_time": "2016-10-20T19:23:52.066040",
     "start_time": "2016-10-20T19:23:51.314278"
    },
    "collapsed": false,
    "slideshow": {
     "slide_type": "fragment"
    }
   },
   "outputs": [
    {
     "name": "stdout",
     "output_type": "stream",
     "text": [
      "Estimation of the answer: 42.02495324649931\n"
     ]
    }
   ],
   "source": [
    "n = 1000000\n",
    "a = 0\n",
    "for i in range(n):\n",
    "    a += 84*random.rand()\n",
    "print(\"Estimation of the answer: \"+str(a/n))"
   ]
  },
  {
   "cell_type": "code",
   "execution_count": 12,
   "metadata": {
    "ExecuteTime": {
     "end_time": "2016-10-20T19:23:52.102572",
     "start_time": "2016-10-20T19:23:52.069542"
    },
    "collapsed": false,
    "slideshow": {
     "slide_type": "fragment"
    }
   },
   "outputs": [
    {
     "name": "stdout",
     "output_type": "stream",
     "text": [
      "Estimation of the answer: 42.007087753\n"
     ]
    }
   ],
   "source": [
    "n = 1000000\n",
    "a = 84*sum(random.rand(n))\n",
    "print(\"Estimation of the answer: \"+str(a/n))"
   ]
  },
  {
   "cell_type": "markdown",
   "metadata": {
    "slideshow": {
     "slide_type": "subslide"
    }
   },
   "source": [
    "# Spell Checker\n",
    "\n",
    "No grammar correction, but a basic spelling checker.\n",
    "\n",
    "Forty-two"
   ]
  },
  {
   "cell_type": "markdown",
   "metadata": {
    "slideshow": {
     "slide_type": "subslide"
    }
   },
   "source": [
    "# Many other extensions"
   ]
  },
  {
   "cell_type": "markdown",
   "metadata": {
    "slideshow": {
     "slide_type": "fragment"
    }
   },
   "source": [
    "- Scratchboard"
   ]
  },
  {
   "cell_type": "markdown",
   "metadata": {
    "slideshow": {
     "slide_type": "fragment"
    }
   },
   "source": [
    "- Comment-Uncomment"
   ]
  },
  {
   "cell_type": "markdown",
   "metadata": {
    "slideshow": {
     "slide_type": "fragment"
    }
   },
   "source": [
    "- Table of Content"
   ]
  },
  {
   "cell_type": "markdown",
   "metadata": {
    "slideshow": {
     "slide_type": "fragment"
    }
   },
   "source": [
    "- Just try!"
   ]
  },
  {
   "cell_type": "markdown",
   "metadata": {
    "slideshow": {
     "slide_type": "slide"
    }
   },
   "source": [
    "# Other tricks\n",
    "\n",
    "- Remote access\n",
    "    - only localhost connexion are allowed\n",
    "    - **ssh -L** works like a charm!\n",
    "    \n",
    "- Other Kernels (Julia!)"
   ]
  },
  {
   "cell_type": "markdown",
   "metadata": {
    "slideshow": {
     "slide_type": "slide"
    }
   },
   "source": [
    "# Presentation with Jupyter\n",
    "## Rise and Shine"
   ]
  },
  {
   "cell_type": "markdown",
   "metadata": {
    "slideshow": {
     "slide_type": "subslide"
    }
   },
   "source": [
    "# How does that work?\n",
    "\n",
    "- **reveal.js**, Keynote for HTML\n",
    "- Three main modes discovered:\n",
    "    - RISE\n",
    "    - HTML\n",
    "        - CDN reveal.js\n",
    "        - Local reveal.js"
   ]
  },
  {
   "cell_type": "markdown",
   "metadata": {
    "slideshow": {
     "slide_type": "subslide"
    }
   },
   "source": [
    "# Rise mode\n",
    "\n",
    "- Pros\n",
    "    - Direct from NoteBook\n",
    "    - Interactive!\n",
    "- Cons\n",
    "    - No speaker view\n",
    "    - Cannot export directly"
   ]
  },
  {
   "cell_type": "markdown",
   "metadata": {
    "slideshow": {
     "slide_type": "subslide"
    }
   },
   "source": [
    "# HTML mode (CDN)\n",
    "\n",
    "- Pros\n",
    "    - One standalone single file\n",
    "- Cons\n",
    "    - Static\n",
    "    - No speaker view\n",
    "    - Complex export\n",
    "\n",
    "<a href=\"https://www.lincs.fr/wp-content/uploads/2013/01/S4-Small-Worlds.prezi_.html#/\" target=\"_blank\">Example</a>"
   ]
  },
  {
   "cell_type": "markdown",
   "metadata": {
    "slideshow": {
     "slide_type": "subslide"
    }
   },
   "source": [
    "# HTML mode (Local)\n",
    "\n",
    "- Pros\n",
    "    - Speaker view!\n",
    "- Cons\n",
    "    - Static\n",
    "    - Must have local **reveal.js**\n",
    "    - Complex export\n",
    "    \n",
    "<a href=\"http://localhost:8888/files/notebook-tutorial.prezi.html\" target=\"_blank\">Example (will not work on a remote export)</a>"
   ]
  },
  {
   "cell_type": "markdown",
   "metadata": {
    "slideshow": {
     "slide_type": "slide"
    }
   },
   "source": [
    "# Concluding remarks"
   ]
  },
  {
   "cell_type": "markdown",
   "metadata": {
    "slideshow": {
     "slide_type": "subslide"
    }
   },
   "source": [
    "# Teaching without NoteBooks\n",
    "\n",
    "- you give students a course (PDF/PPT), a subject (PDF), possibly some code\n",
    "- you receive copies (Paper/PDF/DOCX/TXT), possibly some code"
   ]
  },
  {
   "cell_type": "markdown",
   "metadata": {
    "slideshow": {
     "slide_type": "subslide"
    }
   },
   "source": [
    "# Teaching with NoteBooks\n",
    "\n",
    "- You give students\n",
    "    - NoteBook presentations\n",
    "    - NoteBook subjects\n",
    "- Students return NoteBooks subjects with their answers"
   ]
  },
  {
   "cell_type": "markdown",
   "metadata": {
    "slideshow": {
     "slide_type": "subslide"
    }
   },
   "source": [
    "# Research without NoteBooks\n",
    "\n",
    "- Pre-Writing\n",
    "    - Early code (Spyder/Atom/Matlab)\n",
    "    - Early maths (paper/whiteboard/tex)\n",
    "    - Many formats slow down bandwidth\n",
    "- Writing\n",
    "    - LaTeX\n",
    "    - MOAS\n",
    "- Post-Writing : Beamer/PPT"
   ]
  },
  {
   "cell_type": "markdown",
   "metadata": {
    "slideshow": {
     "slide_type": "subslide"
    }
   },
   "source": [
    "# Research with NoteBooks\n",
    "\n",
    "- Use a NoteBook, export to .tex when necessary"
   ]
  },
  {
   "cell_type": "markdown",
   "metadata": {
    "slideshow": {
     "slide_type": "subslide"
    }
   },
   "source": [
    "# Is Jupyter the new Emacs/NDN?"
   ]
  },
  {
   "cell_type": "markdown",
   "metadata": {
    "slideshow": {
     "slide_type": "fragment"
    }
   },
   "source": [
    "- Pros:\n",
    "    - Easy to learn\n",
    "    - One format to bind them all"
   ]
  },
  {
   "cell_type": "markdown",
   "metadata": {
    "slideshow": {
     "slide_type": "fragment"
    }
   },
   "source": [
    "- Cons:\n",
    "    - Hard to master\n",
    "    - Still under heavy development"
   ]
  },
  {
   "cell_type": "markdown",
   "metadata": {
    "slideshow": {
     "slide_type": "subslide"
    }
   },
   "source": [
    "# And now?\n",
    "\n",
    "- This presentation and a more detailed guide should be on the Wiki\n",
    "- Don't hesitate to contribute\n",
    "    - Rise with speaker view and one-button export?\n",
    "    - Fine tuning of cell positioning"
   ]
  }
 ],
 "metadata": {
  "anaconda-cloud": {},
  "kernelspec": {
   "display_name": "Python [default]",
   "language": "python",
   "name": "python3"
  },
  "language_info": {
   "codemirror_mode": {
    "name": "ipython",
    "version": 3
   },
   "file_extension": ".py",
   "mimetype": "text/x-python",
   "name": "python",
   "nbconvert_exporter": "python",
   "pygments_lexer": "ipython3",
   "version": "3.5.2"
  },
  "livereveal": {
   "height": "100%",
   "margin": 0,
   "start_slideshow_at": "selected",
   "theme": "sky",
   "transition": "slide",
   "width": "100%"
  },
  "nav_menu": {
   "height": "467px",
   "width": "358px"
  },
  "nbpresent": {
   "slides": {},
   "themes": {}
  },
  "toc": {
   "navigate_menu": true,
   "number_sections": false,
   "sideBar": true,
   "threshold": 6,
   "toc_cell": false,
   "toc_section_display": "block",
   "toc_window_display": false
  }
 },
 "nbformat": 4,
 "nbformat_minor": 1
}
